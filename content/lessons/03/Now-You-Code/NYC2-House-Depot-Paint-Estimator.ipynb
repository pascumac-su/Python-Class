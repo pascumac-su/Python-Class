{
 "cells": [
  {
   "cell_type": "markdown",
   "metadata": {},
   "source": [
    "# Now You Code 2: House Depot Paint Estimator\n",
    "\n",
    "The big-box hardware store *House Depot* as contracted you to write an App to estimate the amount of paint required to paint a room. Given that 1 gallon of paint covers 400 square feet, you must output the number of paint cans required to paint a rectangular room.\n",
    "\n",
    "The program should input:\n",
    "\n",
    "- the length of the room in feet, \n",
    "- the width of the room in feet,\n",
    "- the height of the room in feet\n",
    "\n",
    "The program should output:\n",
    "\n",
    "- total area to be painted ( sum of each of the 4 walls)\n",
    "- the number of gallons of paint required to paint the room.\n",
    "\n",
    "Example:\n",
    "\n",
    "```\n",
    "Enter length of room: 12\n",
    "Enter width of room: 14\n",
    "Enter height of room: 8\n",
    "Total area to be painted: 416.00\n",
    "Total gallons of paint requried: 2\n",
    "```\n",
    "\n",
    "HINT: Use the `math.ceil()` function to round your number of gallons up to the nearest whole number \n"
   ]
  },
  {
   "cell_type": "markdown",
   "metadata": {},
   "source": [
    "## Step 1: Problem Analysis\n",
    "\n",
    "Inputs:\n",
    "length of room\n",
    "width of room\n",
    "height of room\n",
    "\n",
    "Outputs:\n",
    "\n",
    "Algorithm (Steps in Program):\n",
    "\n",
    "\n"
   ]
  },
  {
   "cell_type": "code",
   "execution_count": 11,
   "metadata": {},
   "outputs": [
    {
     "name": "stdout",
     "output_type": "stream",
     "text": [
      "Enter the height of the room: 8\n",
      "Enter the short wall feet: 25\n",
      "Enter the long wall feet: 40\n",
      "8 25 40 130 1040 2.6 3\n"
     ]
    }
   ],
   "source": [
    "import math # you need this to use math.ceil(), so we wrote this part of the code for you!!! LEAVE IT HERE!\n",
    "# Step 2: write code here\n",
    "\n",
    "import math\n",
    "height = int(input(\"Enter the height of the room: \"))\n",
    "length_short = int(input(\"Enter the short wall feet: \"))\n",
    "length_long = int(input(\"Enter the long wall feet: \"))\n",
    "\n",
    "total_length = 2*(length_short+length_long)\n",
    "total_sq_feet = total_length*height\n",
    "total_gallons = total_sq_feet / 400\n",
    "total_gallons_to_buy = math.ceil(total_sq_feet / 400)\n",
    "print(height, length_short, length_long, total_length, total_sq_feet, total_gallons, total_gallons_to_buy)"
   ]
  },
  {
   "cell_type": "markdown",
   "metadata": {},
   "source": [
    "## Step 3: Questions\n",
    "\n",
    "1. Why does the program still run when you enter a negative number for length?\n",
    "2. Does the output make sense when you enter a negative length? Why type of error is this?\n",
    "3. Why do we use `math.ceil()` in this program? In other words are you allowed to buy 3.75 gallons of paint?\n"
   ]
  },
  {
   "cell_type": "markdown",
   "metadata": {},
   "source": [
    "## Reminder of Evaluation Criteria\n",
    "\n",
    "1. What the problem attempted (analysis, code, and answered questions) ?\n",
    "2. What the problem analysis thought out? (does the program match the plan?)\n",
    "3. Does the code execute without syntax error?\n",
    "4. Does the code solve the intended problem?\n",
    "5. Is the code well written? (easy to understand, modular, and self-documenting, handles errors)\n"
   ]
  },
  {
   "cell_type": "code",
   "execution_count": null,
   "metadata": {
    "collapsed": true
   },
   "outputs": [],
   "source": []
  }
 ],
 "metadata": {
  "anaconda-cloud": {},
  "kernelspec": {
   "display_name": "Python 3",
   "language": "python",
   "name": "python3"
  },
  "language_info": {
   "codemirror_mode": {
    "name": "ipython",
    "version": 3
   },
   "file_extension": ".py",
   "mimetype": "text/x-python",
   "name": "python",
   "nbconvert_exporter": "python",
   "pygments_lexer": "ipython3",
   "version": "3.6.6"
  }
 },
 "nbformat": 4,
 "nbformat_minor": 1
}
