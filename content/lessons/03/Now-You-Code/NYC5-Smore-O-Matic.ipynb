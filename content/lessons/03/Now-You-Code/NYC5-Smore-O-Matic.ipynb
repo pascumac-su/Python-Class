{
 "cells": [
  {
   "cell_type": "markdown",
   "metadata": {},
   "source": [
    "# Now You Code 5: Smore O' Matic\n",
    "\n",
    "A smore https://en.wikipedia.org/wiki/S%27more is a popular campfire treat consisting of marshmellows, chocolate bars, and graham crackers. \n",
    "\n",
    "- Each smore requires 1 marshmallow. There are 60 marshmallows in a bag.\n",
    "- Each smore requires 1 graham cracker square. There are 32 squares in a box of graham crackers.\n",
    "- Each smore requires 1 section of chocolate. There are 24 sections of chocolate in package. \n",
    "\n",
    "So with 1 bag of marshmallows, 1 box of graham crackers, an 1 package of chocolate you can only make 24 smores (and you'll have 8 leftover crackers and 36 marshmallows).\n",
    "\n",
    "Write a program which inputs the costs of the 1 bag of marshmallows, 1 box of graham crackers, an 1 package of chocolate, then calculates total cost and cost per smore.\n",
    "\n",
    "Example:\n",
    "\n",
    "```\n",
    "Cost-per-smore calculator:\n",
    "\n",
    "Input the cost of your 1 bag of marshmallows: 2.79\n",
    "Input the cost of your 1 box of graham crackers: 2.99\n",
    "Input the cost of your 1 package of chocolate: 3.49\n",
    "\n",
    "Total cost of items: 9.27\n",
    "Cost per smore: 0.39\n",
    "```"
   ]
  },
  {
   "cell_type": "markdown",
   "metadata": {},
   "source": [
    "## Step 1: Problem Analysis\n",
    "\n",
    "Inputs:\n",
    "marshmallow = cost of marshmallow\n",
    "graham = cost of cracker\n",
    "chocolate = cost of chocolate\n",
    "\n",
    "Outputs:\n",
    "cost = total\n",
    "cost_per_Smore= how much each smore cost\n",
    "\n",
    "\n",
    "Algorithm (Steps in Program):\n",
    "calculate amount of total items\n",
    "cost divided by total \n",
    "print\n",
    "\n"
   ]
  },
  {
   "cell_type": "code",
   "execution_count": 38,
   "metadata": {},
   "outputs": [
    {
     "name": "stdout",
     "output_type": "stream",
     "text": [
      "How much does a bag of marshmallows cost?2.99\n",
      "How much does a package of graham crackers cost?2.79\n",
      "How much does a package of chocolate cost?3.49\n",
      "The total cost is:9.27\n",
      "The cost per smore is: 0.39\n"
     ]
    }
   ],
   "source": [
    "# Step 2: write code here\n",
    "\n",
    "marshmallow = float(input(\"How much does a bag of marshmallows cost?\"))\n",
    "graham = float(input(\"How much does a package of graham crackers cost?\"))\n",
    "chocolate = float(input(\"How much does a package of chocolate cost?\"))\n",
    "total_smores = 24\n",
    "\n",
    "total_cost = marshmallow + graham + chocolate\n",
    "cost_per_smore = (total_cost/total_smores)\n",
    "print('The total cost is: ' + \"%.2f\" %total_cost)\n",
    "print(\"The cost per smore is: \" + \"%.2f\" %cost_per_smore)\n"
   ]
  },
  {
   "cell_type": "markdown",
   "metadata": {},
   "source": [
    "## Step 3: Questions\n",
    "\n",
    "1. Which product is wasted the most when making smores?\n",
    "a. marshmallows because there will be 36 leftover while making the smores.\n",
    "2. Does the output make sense when you enter a negative prices ? Why type of error is this?\n",
    "a. The output will not make sense when you enter negative prices because the total will come back as a negative number. There will be no error because it is still the same math, but with negatives instead of regular totals. \n",
    "3. What is one way this program could be re-written to get the cost per smore lower?\n",
    "a. The cost per smore could be lowered by inserting more than a total of 24 smores. Making the denominator larger would make the equation total smaller."
   ]
  },
  {
   "cell_type": "markdown",
   "metadata": {},
   "source": [
    "## Reminder of Evaluation Criteria\n",
    "\n",
    "1. What the problem attempted (analysis, code, and answered questions) ?\n",
    "2. What the problem analysis thought out? (does the program match the plan?)\n",
    "3. Does the code execute without syntax error?\n",
    "4. Does the code solve the intended problem?\n",
    "5. Is the code well written? (easy to understand, modular, and self-documenting, handles errors)\n"
   ]
  },
  {
   "cell_type": "code",
   "execution_count": null,
   "metadata": {
    "collapsed": true
   },
   "outputs": [],
   "source": []
  }
 ],
 "metadata": {
  "anaconda-cloud": {},
  "kernelspec": {
   "display_name": "Python 3",
   "language": "python",
   "name": "python3"
  },
  "language_info": {
   "codemirror_mode": {
    "name": "ipython",
    "version": 3
   },
   "file_extension": ".py",
   "mimetype": "text/x-python",
   "name": "python",
   "nbconvert_exporter": "python",
   "pygments_lexer": "ipython3",
   "version": "3.6.6"
  }
 },
 "nbformat": 4,
 "nbformat_minor": 1
}
