{
 "cells": [
  {
   "cell_type": "markdown",
   "metadata": {},
   "source": [
    "# Now You Code 1: Hello 2 Ways\n",
    "\n",
    "Write a Python program which prompts you to input your first name and then your last name. It should then print your name two ways First Last and Last, First. For example:\n",
    "\n",
    "```\n",
    "What is your first name? Michael\n",
    "What is your last name? Fudge\n",
    "Hello, Michael Fudge\n",
    "Or should I say Fudge, Michael\n",
    "```\n"
   ]
  },
  {
   "cell_type": "markdown",
   "metadata": {
    "collapsed": true
   },
   "source": [
    "## Step 1: Problem Analysis\n",
    "\n",
    "Inputs:\n",
    "\n",
    "Outputs:\n",
    "\n",
    "Algorithm (Steps in Program):\n",
    "\n"
   ]
  },
  {
   "cell_type": "code",
   "execution_count": 27,
   "metadata": {},
   "outputs": [
    {
     "name": "stdout",
     "output_type": "stream",
     "text": [
      "What is your firstname: pamela\n",
      "what is your lastname: scumaci\n",
      "Hello pamela scumaci\n",
      "Or should I say scumaci pamela\n"
     ]
    }
   ],
   "source": [
    "# Step 2: Write code here\n",
    "firstname = input(\"What is your firstname: \")\n",
    "lastname = input (\"what is your lastname: \" )\n",
    "print ('Hello', firstname, lastname ) \n",
    "print ('Or should I say', lastname, firstname)"
   ]
  },
  {
   "cell_type": "markdown",
   "metadata": {},
   "source": [
    "## Step 3: Questions\n",
    "\n",
    "1. What happens when don't follow the instructions and enter your first name as your last name? Does the code still run? Why?\n",
    "    a. When you enter your first name as your last it will how up as Scumaci Pamela instead of Pamela Scumaci. The code still runs because there in as input for the output, its just backwards.\n",
    "2. What type of error it when the program runs but does not handle bad input?\n",
    "    a. When the program does not handle a bad input \"invalid syntax\" is the erroe.\n",
    "3. Is there anything you can do in code to correct this type of error? Why or why not?\n",
    "    a. You can correct many things to avoid an \"invalid syntax\" error like, parathenses, commas, quotes, wording, etc. because it is dire to understand these mild details and adjust them.\""
   ]
  },
  {
   "cell_type": "markdown",
   "metadata": {},
   "source": [
    "## Reminder of Evaluation Criteria\n",
    "\n",
    "1. What the problem attempted (analysis, code, and answered questions) ?\n",
    "2. What the problem analysis thought out? (does the program match the plan?)\n",
    "3. Does the code execute without syntax error?\n",
    "4. Does the code solve the intended problem?\n",
    "5. Is the code well written? (easy to understand, modular, and self-documenting, handles errors)\n"
   ]
  },
  {
   "cell_type": "code",
   "execution_count": null,
   "metadata": {
    "collapsed": true
   },
   "outputs": [],
   "source": []
  }
 ],
 "metadata": {
  "anaconda-cloud": {},
  "kernelspec": {
   "display_name": "Python 3",
   "language": "python",
   "name": "python3"
  },
  "language_info": {
   "codemirror_mode": {
    "name": "ipython",
    "version": 3
   },
   "file_extension": ".py",
   "mimetype": "text/x-python",
   "name": "python",
   "nbconvert_exporter": "python",
   "pygments_lexer": "ipython3",
   "version": "3.6.6"
  }
 },
 "nbformat": 4,
 "nbformat_minor": 1
}
