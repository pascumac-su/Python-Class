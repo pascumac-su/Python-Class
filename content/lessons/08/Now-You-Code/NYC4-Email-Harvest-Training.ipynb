{
 "cells": [
  {
   "cell_type": "markdown",
   "metadata": {},
   "source": [
    "# Now You Code 4: Email Harvest Training\n",
    "\n",
    "Let's teach you how to extract emails from text. This has a variety of applications the most common being buiding an email list.\n",
    "The best way to find the emails in the mailbox file is to search for lines in the file that begin with \"From: (similar to what we did in the lab). When you find an email write just the email address (not \"From:\" and the address) to \"NYC4-emails.txt\", and don't worry about duplicates.\n",
    "\n",
    "The program should print the number of emails it wrote to the file.\n",
    "\n",
    "Example Run:\n",
    "\n",
    "```\n",
    "Wrote 27 emails to NYC4-emails.txt\n",
    "```"
   ]
  },
  {
   "cell_type": "markdown",
   "metadata": {},
   "source": [
    "## Step 1: Problem Analysis\n",
    "\n",
    "Input: (No user input, but we do read from the file `NYC4-emails.txt`\n",
    "\n",
    "Output (The number of emails collected from the file, and a new file `NYC4-emails.txt` with one email per line.\n",
    "\n",
    "Algorithm:\n",
    "\n",
    "```\n",
    "(write here)\n",
    "```\n",
    "open filename that begin with from: from email.txt\n",
    "print the number of emails written in the file"
   ]
  },
  {
   "cell_type": "code",
   "execution_count": 13,
   "metadata": {},
   "outputs": [
    {
     "name": "stdout",
     "output_type": "stream",
     "text": [
      "Wrote 323 emails to NYC4-emails.txt\n"
     ]
    }
   ],
   "source": [
    "## Step 2: Write the code\n",
    "\n",
    "filename = \"NYC4-mbox-short.txt\"\n",
    "newfile = \"NYC4-emails.txt\"\n",
    "with open(filename, \"r\") as f:\n",
    "    for line in f.readlines():\n",
    "        if line.startswith(\"From: \"):\n",
    "            emails=line[5:]\n",
    "            with open(newfile, 'a') as file_out:\n",
    "                file_out.write(emails)\n",
    "                num_lines = sum(1 for line in open(\"NYC4-emails.txt\"))\n",
    "print(\"Wrote %d emails to NYC4-emails.txt\" % (num_lines))\n"
   ]
  },
  {
   "cell_type": "code",
   "execution_count": 12,
   "metadata": {},
   "outputs": [],
   "source": [
    "## Step 3: Write a program to read the emails from NYC4-emails.txt and print them to the console\n",
    "\n"
   ]
  },
  {
   "cell_type": "markdown",
   "metadata": {},
   "source": [
    "## Step 4: Questions\n",
    "\n",
    "1. Does this code actually \"detect\" emails? How does it find emails in the text?\n",
    "    a. yes, because it uses the loop to search through the files in the email folder\n",
    "2. Explain how this program can be improved to prompt for an email file at to process runtime?\n",
    "    a. we can set a prompt for the user to input which file they would like to see, and then output the file they have asked.\n",
    "3. Devise an approach to remove duplicate emails from the output file. You don't have to write as code, just explain it.\n",
    "    a. if you set a rule to remove the duplicate mail, this could be a way to not show the dublicated texts."
   ]
  },
  {
   "cell_type": "markdown",
   "metadata": {},
   "source": [
    "## Reminder of Evaluation Criteria\n",
    "\n",
    "1. What the problem attempted (analysis, code, and answered questions) ?\n",
    "2. What the problem analysis thought out? (does the program match the plan?)\n",
    "3. Does the code execute without syntax error?\n",
    "4. Does the code solve the intended problem?\n",
    "5. Is the code well written? (easy to understand, modular, and self-documenting, handles errors)\n"
   ]
  },
  {
   "cell_type": "code",
   "execution_count": null,
   "metadata": {},
   "outputs": [],
   "source": []
  }
 ],
 "metadata": {
  "anaconda-cloud": {},
  "kernelspec": {
   "display_name": "Python 3",
   "language": "python",
   "name": "python3"
  },
  "language_info": {
   "codemirror_mode": {
    "name": "ipython",
    "version": 3
   },
   "file_extension": ".py",
   "mimetype": "text/x-python",
   "name": "python",
   "nbconvert_exporter": "python",
   "pygments_lexer": "ipython3",
   "version": "3.6.6"
  }
 },
 "nbformat": 4,
 "nbformat_minor": 1
}
