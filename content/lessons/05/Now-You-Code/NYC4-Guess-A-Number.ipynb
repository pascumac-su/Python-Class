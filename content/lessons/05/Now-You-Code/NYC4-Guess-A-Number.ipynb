{
 "cells": [
  {
   "cell_type": "markdown",
   "metadata": {},
   "source": [
    "# Now You Code 4: Guess A Number\n",
    "\n",
    "Write a program to play the classic \"Guess a number\" game.\n",
    "\n",
    "In this game the computer selects a random number between 1 and 10.\n",
    "It's your job to guess the number. Whenever you guess, the computer will\n",
    "give you a hint of higher or lower. This process repeats until you guess\n",
    "the number, after which the computer reports the number of guesses it took you.\n",
    "\n",
    "For Example:\n",
    "\n",
    "I'm thinking of a number between 1 and 10...\n",
    "Your guess: 5\n",
    "Too low. Guess higher.\n",
    "Your guess: 7\n",
    "Too high. Guess lower.\n",
    "Your guess: 6\n",
    "You guessed it in 3 tries.\n",
    "\n",
    "Your loop should continue until your input guess equals the\n",
    "computer generated random number.\n",
    "\n",
    "### How do you make Python generate a random number? "
   ]
  },
  {
   "cell_type": "code",
   "execution_count": 1,
   "metadata": {},
   "outputs": [
    {
     "name": "stdout",
     "output_type": "stream",
     "text": [
      "10\n"
     ]
    }
   ],
   "source": [
    "# Sample code which demostrates how to generate a number between 1 and 10\n",
    "import random \n",
    "number = random.randint(1,10)\n",
    "print(number)"
   ]
  },
  {
   "cell_type": "markdown",
   "metadata": {},
   "source": [
    "Run the cell above a couple of times. Notice how each time you execute the code, it comes up with a different number. \n",
    "\n",
    "Here's a breakdown of the code\n",
    "\n",
    "```\n",
    "line 1 imports the random module\n",
    "line 2 randomly selects an integer between 1 and 10\n",
    "line 3 prints the number\n",
    "```\n",
    "\n",
    "Now that you understand how to generate a random number, try to design then write code for the program. The first step in your program should be to generate the random number."
   ]
  },
  {
   "cell_type": "markdown",
   "metadata": {
    "collapsed": true
   },
   "source": [
    "## Step 1: Problem Analysis \n",
    "\n",
    "Inputs:\n",
    "\n",
    "guess\n",
    "\n",
    "Outputs:\n",
    "\n",
    "number\n",
    "\n",
    "Algorithm (Steps in Program):\n",
    "\n",
    "1. put in a number\n",
    "2. random number generates\n",
    "3. if it is too low or high try again until you match with the computer\n"
   ]
  },
  {
   "cell_type": "code",
   "execution_count": 3,
   "metadata": {},
   "outputs": [
    {
     "name": "stdout",
     "output_type": "stream",
     "text": [
      "I'm thinking of a number between 1 and 100...10\n",
      "Too low...\n",
      "I'm thinking of a number between 1 and 100...29\n",
      "Too high...\n",
      "I'm thinking of a number between 1 and 100...300\n",
      "Too high...\n",
      "I'm thinking of a number between 1 and 100...50\n",
      "Too high...\n",
      "I'm thinking of a number between 1 and 100...40\n",
      "Too high...\n",
      "I'm thinking of a number between 1 and 100...30\n",
      "Too high...\n",
      "I'm thinking of a number between 1 and 100...20\n",
      "Too low...\n",
      "I'm thinking of a number between 1 and 100...25\n",
      "Too low...\n",
      "I'm thinking of a number between 1 and 100...26\n",
      "Too low...\n",
      "I'm thinking of a number between 1 and 100...27\n",
      "You guessed it!\n",
      "It took you 10 tries to guess the right number.\n"
     ]
    }
   ],
   "source": [
    "import random\n",
    "# Step 2: write code for program\n",
    "number = random.randint(1,100)\n",
    "count = 0\n",
    "while True: \n",
    "    count = count + 1\n",
    "    your_guess = int(input(\"I'm thinking of a number between 1 and 100...\"))\n",
    "    if (your_guess) > number:\n",
    "        print(\"Too high...\")\n",
    "    if (your_guess) < number:\n",
    "        print(\"Too low...\")\n",
    "    if (your_guess) == number:\n",
    "        print(\"You guessed it!\")\n",
    "        break\n",
    "print(\"It took you\", count,\"tries to guess the right number.\")        \n"
   ]
  },
  {
   "cell_type": "markdown",
   "metadata": {},
   "source": [
    "## Step 3: Questions\n",
    "\n",
    "1. Which loop did you use to solve the problem? What is a definite or indefinite loop?\n",
    "    a. I used the while loop, which is an indefinite loop since we do not know the amount of iterations before we executed the code.\n",
    "2. Modify this program to allow you to guess a number between 1 and 100. How much of your code did you need to change to make this work? \n",
    "    a. I had to change two parts of the code, the range and when it asks to guess the numbers.\n",
    "3. This program is a good example of a difficult problem to conceptualize which has a simple solution when you look at actual lines of code. I assume you did not write this in a single try, so explain where you got stuck and describe your approach to overcoming it.\n",
    "    a. I got stuck trying to understand if I was supposed to name the guess amounts (your_guess) and what kind of loop was supposed to be occuring.\n"
   ]
  },
  {
   "cell_type": "markdown",
   "metadata": {},
   "source": [
    "## Reminder of Evaluation Criteria\n",
    "\n",
    "1. What the problem attempted (analysis, code, and answered questions) ?\n",
    "2. What the problem analysis thought out? (does the program match the plan?)\n",
    "3. Does the code execute without syntax error?\n",
    "4. Does the code solve the intended problem?\n",
    "5. Is the code well written? (easy to understand, modular, and self-documenting, handles errors)\n"
   ]
  },
  {
   "cell_type": "code",
   "execution_count": null,
   "metadata": {
    "collapsed": true
   },
   "outputs": [],
   "source": []
  }
 ],
 "metadata": {
  "anaconda-cloud": {},
  "kernelspec": {
   "display_name": "Python 3",
   "language": "python",
   "name": "python3"
  },
  "language_info": {
   "codemirror_mode": {
    "name": "ipython",
    "version": 3
   },
   "file_extension": ".py",
   "mimetype": "text/x-python",
   "name": "python",
   "nbconvert_exporter": "python",
   "pygments_lexer": "ipython3",
   "version": "3.6.6"
  }
 },
 "nbformat": 4,
 "nbformat_minor": 1
}
