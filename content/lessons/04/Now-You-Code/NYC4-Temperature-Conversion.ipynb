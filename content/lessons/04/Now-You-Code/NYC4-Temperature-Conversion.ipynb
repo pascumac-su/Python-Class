{
 "cells": [
  {
   "cell_type": "markdown",
   "metadata": {},
   "source": [
    "# Now You Code 4: Temperature Conversion\n",
    "\n",
    "# Part 1\n",
    "\n",
    "Write a Python program to input a temperature in Fahrenheit or Celcius,\n",
    "then converts it to the other unit. The program should first input a temperature\n",
    "then input a unit of C or F. It should then convert the temperature to the\n",
    "other unit. \n",
    "\n",
    "After you get it working initially, re-write it to handle bad input. \n",
    "\n",
    "Example Run 1:\n",
    "\n",
    "```\n",
    "    Enter temperature: 212\n",
    "    In which units is that: C or F? F\n",
    "    That's 100.0 C\n",
    "```\n",
    "\n",
    "Example Run 2:\n",
    "\n",
    "```\n",
    "    Enter temperature: 0\n",
    "    In which unit is that: C or F? C\n",
    "    That's 32.0 F\n",
    "```\n",
    "\n",
    "NOTE: You can find the formulas online.\n"
   ]
  },
  {
   "cell_type": "markdown",
   "metadata": {
    "collapsed": true
   },
   "source": [
    "## Step 1: Problem Analysis\n",
    "\n",
    "Inputs:\n",
    "\n",
    "temperature\n",
    "is it celcius or farenheit\n",
    "\n",
    "\n",
    "Outputs:\n",
    "opposite of inserted degree\n",
    "\n",
    "Algorithm (Steps in Program):\n",
    "\n",
    "\n"
   ]
  },
  {
   "cell_type": "code",
   "execution_count": 11,
   "metadata": {},
   "outputs": [
    {
     "name": "stdout",
     "output_type": "stream",
     "text": [
      "Enter temperature: 0\n",
      "In which unit is that, C or F?C\n",
      "That is32.0 F.\n"
     ]
    }
   ],
   "source": [
    "#Step 2: write code here\n",
    "\n",
    "temperature = float(input(\"Enter temperature: \"))\n",
    "unit = str(input(\"In which unit is that, C or F?\"))\n",
    "\n",
    "if unit == \"F\":\n",
    "    temperature = (temperature - 32) * (5/9)\n",
    "    print(\"That is\"\"%.1f C.\" % (temperature))\n",
    "elif unit == \"C\":\n",
    "    temperature = (temperature * (9/5)) + 32\n",
    "    print(\"That is\"  \"%.1f F.\" % (temperature))\n",
    "        "
   ]
  },
  {
   "cell_type": "markdown",
   "metadata": {},
   "source": [
    "# Part 2\n",
    "\n",
    "Now that you got it working,  re-write your code to handle bad input using Python's `try... except` statement. When the exception occurs, you can just print the message and exit the program.\n",
    "\n",
    "Example run:\n",
    "\n",
    "```\n",
    "    Enter temperature: wicked hot\n",
    "    Sorry, that's not a temperature I can convert.\n",
    "```\n",
    "\n",
    "**Note:** Exception handling is not part of our algorithm. It's a programming concern, not a problem-solving concern!"
   ]
  },
  {
   "cell_type": "code",
   "execution_count": 16,
   "metadata": {},
   "outputs": [
    {
     "name": "stdout",
     "output_type": "stream",
     "text": [
      "Enter temperature: 212\n",
      "In which unit is that, C or F?G\n"
     ]
    }
   ],
   "source": [
    "## Step 2 (again): write code again but handle errors with try...except\n",
    "\n",
    "try: \n",
    "    temperature = float(input(\"Enter temperature: \"))\n",
    "    unit = str(input(\"In which unit is that, C or F?\"))\n",
    "\n",
    "    if unit == \"F\":\n",
    "        temperature = (temperature - 32) * (5/9)\n",
    "        print(\"That is\"\"%.1f C.\" % (temperature))\n",
    "    elif unit == \"C\":\n",
    "        temperature = (temperature * (9/5)) + 32\n",
    "        print(\"That is\"  \"%.1f F.\" % (temperature))\n",
    "        \n",
    "except ValueError:\n",
    "    print(\"Sorry, that's not a temperature I can covert.\")\n",
    "    \n"
   ]
  },
  {
   "cell_type": "raw",
   "metadata": {},
   "source": [
    "## Step 3: Questions\n",
    "\n",
    "1. What specific Python Error are we handling (please provide the name of it)?\n",
    "    a. We are handling a Value Error because if you enter words instead of a value the code will answer back with a Value Error due to the fact that it is a float, not a string.\n",
    "2. How many times must you execute this program before you can assume its correct? Explain.\n",
    "    a. you must execute the program at least three times to see if it converts farenheit to celsius and vis versa, and lastly, to see if try and except statement works.\n",
    "3. What happends when you enter a lower-cased 'f' or 'c' does it work? Does it work with both up\n",
    "per and lower cased values? How can we make it work?\n",
    "    a. it does not work with lower case letters because we would have to set another if and elif statement or some type of rule for it to run with both upper and lower case letters.\n",
    "4. What happens when you enter a value other than 'F' or 'C' for the units. If you don't like the result, how can you modify the program to handle this issue?\n",
    "    a. The code stops after that line when you enter a different value, to modify this and handle the issue we would have to set another try and except for it not accept values other than F or C"
   ]
  },
  {
   "cell_type": "markdown",
   "metadata": {},
   "source": [
    "## Reminder of Evaluation Criteria\n",
    "\n",
    "1. What the problem attempted (analysis, code, and answered questions) ?\n",
    "2. What the problem analysis thought out? (does the program match the plan?)\n",
    "3. Does the code execute without syntax error?\n",
    "4. Does the code solve the intended problem?\n",
    "5. Is the code well written? (easy to understand, modular, and self-documenting, handles errors)\n"
   ]
  }
 ],
 "metadata": {
  "anaconda-cloud": {},
  "kernelspec": {
   "display_name": "Python 3",
   "language": "python",
   "name": "python3"
  },
  "language_info": {
   "codemirror_mode": {
    "name": "ipython",
    "version": 3
   },
   "file_extension": ".py",
   "mimetype": "text/x-python",
   "name": "python",
   "nbconvert_exporter": "python",
   "pygments_lexer": "ipython3",
   "version": "3.6.6"
  }
 },
 "nbformat": 4,
 "nbformat_minor": 1
}
