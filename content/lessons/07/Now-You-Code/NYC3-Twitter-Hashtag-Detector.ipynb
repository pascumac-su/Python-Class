{
 "cells": [
  {
   "cell_type": "markdown",
   "metadata": {},
   "source": [
    "# Now You Code 3: Twitter Hastag Detector\n",
    "\n",
    "Let's use Python's built-in string functions to help us write a program to detect Twitter hashtags in text. Here's how it should work:\n",
    "\n",
    "Example Run 1:\n",
    "\n",
    "```\n",
    "Enter Tweet: You got a 50 on the exam? #iamsad for you!\n",
    "Hashtag: #iamsad\n",
    "```    \n",
    "Example Run 2:\n",
    "\n",
    "```\n",
    "Enter Tweet: #lol too funny #joke #haha\n",
    "Hashtag: #lol\n",
    "Hashtag: #joke\n",
    "Hashtag: #haha\n",
    "```\n",
    "\n",
    "Example Run 3:\n",
    "\n",
    "```\n",
    "Enter Tweet: Happy birthday @mafudge\n",
    "Hashtag: none\n",
    "```\n",
    "\n",
    "Your approach should be to split the text into words and for each word look for the hashtag `#` at the start of the word."
   ]
  },
  {
   "cell_type": "markdown",
   "metadata": {},
   "source": [
    "## Step 1: Problem Analysis Program\n",
    "\n",
    "Inputs:\n",
    "\n",
    "enter a tweet\n",
    "\n",
    "Outputs:\n",
    "\n",
    "if there is no hashtag it will print none\n",
    "if there is a hashtag it will print the statement\n",
    "\n",
    "Algorithm (Steps in Program):\n",
    "\n",
    "1. enter a tweet\n",
    "2. create an if statement for when the sentence has a hashtag\n",
    "3. set a for-in for the word in the tweet that has the hastag\n",
    "4. set the else to when the sentence has no hashtag\n",
    "5. print statements will be the hashtags, or none."
   ]
  },
  {
   "cell_type": "code",
   "execution_count": 9,
   "metadata": {},
   "outputs": [
    {
     "name": "stdout",
     "output_type": "stream",
     "text": [
      "Enter a tweet:it wights 64# that's #heavy\n",
      "hashtag:  #heavy\n"
     ]
    }
   ],
   "source": [
    "## Step 2: todo write code for full problem\n",
    "tweet = input(\"Enter a tweet:\")\n",
    "if tweet.find(\"#\")>= 0:\n",
    "    for word in tweet.split():\n",
    "        if word.startswith(\"#\"):\n",
    "            print(\"hashtag: \", word)\n",
    "else:\n",
    "    print(\"Hashtag: none\")"
   ]
  },
  {
   "cell_type": "markdown",
   "metadata": {},
   "source": [
    "## Step 3: Questions\n",
    "\n",
    "1. What happens when the hashtag is not in the beginning of the word? ex. `it wights 64# that's #heavy`? Is this a problem?\n",
    "a. the 64# will not print, since we coded that the hashtag must be in front of the word with the \"word.startswith\". No error will occur, it will just not detect the 64 as a hashtag.\n",
    "2. Describe an approach for refactoring this code to use a function? What would the arguments and return values be? (Don't refactor the code, just describe your approach!) \n",
    " a. if we refactored this code to use a function, we could define hashtag and use a boolean statements that would still input a tweet, and return the hashtags.\n",
    "3. Is there a way to write this program without a loop\n",
    "a. yes\n"
   ]
  },
  {
   "cell_type": "markdown",
   "metadata": {},
   "source": [
    "## Reminder of Evaluation Criteria\n",
    "\n",
    "1. What the problem attempted (analysis, code, and answered questions) ?\n",
    "2. What the problem analysis thought out? (does the program match the plan?)\n",
    "3. Does the code execute without syntax error?\n",
    "4. Does the code solve the intended problem?\n",
    "5. Is the code well written? (easy to understand, modular, and self-documenting, handles errors)\n"
   ]
  }
 ],
 "metadata": {
  "anaconda-cloud": {},
  "kernelspec": {
   "display_name": "Python 3",
   "language": "python",
   "name": "python3"
  },
  "language_info": {
   "codemirror_mode": {
    "name": "ipython",
    "version": 3
   },
   "file_extension": ".py",
   "mimetype": "text/x-python",
   "name": "python",
   "nbconvert_exporter": "python",
   "pygments_lexer": "ipython3",
   "version": "3.6.6"
  }
 },
 "nbformat": 4,
 "nbformat_minor": 1
}
