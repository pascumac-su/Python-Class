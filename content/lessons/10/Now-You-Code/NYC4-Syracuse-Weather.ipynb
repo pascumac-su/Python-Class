{
 "cells": [
  {
   "cell_type": "markdown",
   "metadata": {},
   "source": [
    "# Now You Code 4: Syracuse Weather\n",
    "\n",
    "Write a program to load the Syracuse weather data from Dec 2015 in\n",
    "JSON format into a Python list of dictionary. \n",
    "\n",
    "The file with the weather data is in your `Now-You-Code` folder: `\"NYC4-syr-weather-dec-2015.json\"`\n",
    "\n",
    "You should load this data into a Python list of dictionary using the `json` package. \n",
    "\n",
    "After you load this data, loop over the list of weather items and record whether or not the `'Mean TemperatureF'` is above or below freezing. \n",
    "\n",
    "Sort this information into a separate Python dictionary, called `stats` so you can print it out like this:\n",
    "```\n",
    "{'below-freezing': 4, 'above-freezing': 27}\n",
    "```\n",
    "\n"
   ]
  },
  {
   "cell_type": "markdown",
   "metadata": {
    "collapsed": true
   },
   "source": [
    "## Step 1: Problem Analysis `input_address` function\n",
    "\n",
    "This function should get input from the user at run time and return the input address.\n",
    "\n",
    "Inputs: None (gets input from user)\n",
    "\n",
    "Outputs: a Python dictionary of address info (street, city, state, postal_code)\n",
    "\n",
    "Algorithm (Steps in Program):\n",
    "1. read every record in the file\n",
    "2. if the temp is less than or equal to 32, increment the below counter\n",
    "3. if the temp is greater than 32, increment the above counter"
   ]
  },
  {
   "cell_type": "code",
   "execution_count": 16,
   "metadata": {},
   "outputs": [
    {
     "name": "stdout",
     "output_type": "stream",
     "text": [
      "{'EST': '2015-12-1', 'Max TemperatureF': 49, 'Mean TemperatureF': 42.0, 'Min TemperatureF': 34, 'Max Dew PointF': 47, 'MeanDew PointF': 36, 'Min DewpointF': 26, 'Max Humidity': 100, 'Mean Humidity': 85, 'Min Humidity': 70, 'Max Sea Level PressureIn': 30.26, 'Mean Sea Level PressureIn': 30.08, 'Min Sea Level PressureIn': 29.86, 'Max VisibilityMiles': 10, 'Mean VisibilityMiles': 6, 'Min VisibilityMiles': 2, 'Max Wind SpeedMPH': 15, 'Mean Wind SpeedMPH': 10, 'Max Gust SpeedMPH': 22.0, 'PrecipitationIn': '0.26', 'CloudCover': 8, 'Events': 'Rain', 'WindDirDegrees': 81}\n",
      "found above 42.0\n",
      "found above 44.0\n",
      "found above 39.0\n",
      "found above 41.0\n",
      "found above 37.0\n",
      "found one....YAY 32.0\n",
      "found above 33.0\n",
      "found above 34.0\n",
      "found above 42.0\n",
      "found above 51.0\n",
      "found above 51.0\n",
      "found above 43.0\n",
      "found above 50.0\n",
      "found above 56.0\n",
      "found above 47.0\n",
      "found above 42.0\n",
      "found above 46.0\n",
      "found above 37.0\n",
      "found one....YAY 31.0\n",
      "found above 34.0\n",
      "found above 44.0\n",
      "found above 48.0\n",
      "found above 51.0\n",
      "found above 53.0\n",
      "found above 43.0\n",
      "found above 37.0\n",
      "found above 42.0\n",
      "found one....YAY 28.0\n",
      "found one....YAY 32.0\n",
      "found above 39.0\n",
      "found above 35.0\n",
      "{'belowfreezing': 4, 'abovefreezing': 27}\n"
     ]
    }
   ],
   "source": [
    "# Step 2: Write code\n",
    "\n",
    "import json\n",
    "with open(\"NYC4-syr-weather-dec-2015.json\", encoding=\"utf8\") as f:\n",
    "    weather = f.read()\n",
    "    \n",
    "weather = json.loads(weather)\n",
    "type(weather)\n",
    "\n",
    "weather1 = weather[0]\n",
    "print(weather1)\n",
    "\n",
    "stats = {}\n",
    "stats = {\"belowfreezing\": 0, \"abovefreezing\": 0}\n",
    "for data in weather:\n",
    "    if data[\"Mean TemperatureF\"] <= 32:\n",
    "        stats[\"belowfreezing\"] = stats[\"belowfreezing\"] + 1\n",
    "        print(\"found one....YAY\", data[\"Mean TemperatureF\"])\n",
    "    else:\n",
    "        stats[\"abovefreezing\"] = stats[\"abovefreezing\"] + 1\n",
    "        print(\"found above\", data[\"Mean TemperatureF\"])\n",
    "print(stats)"
   ]
  },
  {
   "cell_type": "markdown",
   "metadata": {},
   "source": [
    "## Step 3: Questions\n",
    "\n",
    "1. What are the advantages to storing the number of days above freezing and below freezing in a Python dictionary?\n",
    "2. What is the data type of the weather data as it is read from the file `NYC4-syr-weather-dec-2015.json` ?\n",
    "3. Could this same program work for weather at other times in other cities? What conditions would need to be met for this to happen?"
   ]
  },
  {
   "cell_type": "markdown",
   "metadata": {},
   "source": [
    "## Reminder of Evaluation Criteria\n",
    "\n",
    "1. What the problem attempted (analysis, code, and answered questions) ?\n",
    "2. What the problem analysis thought out? (does the program match the plan?)\n",
    "3. Does the code execute without syntax error?\n",
    "4. Does the code solve the intended problem?\n",
    "5. Is the code well written? (easy to understand, modular, and self-documenting, handles errors)\n"
   ]
  }
 ],
 "metadata": {
  "anaconda-cloud": {},
  "kernelspec": {
   "display_name": "Python 3",
   "language": "python",
   "name": "python3"
  },
  "language_info": {
   "codemirror_mode": {
    "name": "ipython",
    "version": 3
   },
   "file_extension": ".py",
   "mimetype": "text/x-python",
   "name": "python",
   "nbconvert_exporter": "python",
   "pygments_lexer": "ipython3",
   "version": "3.6.6"
  }
 },
 "nbformat": 4,
 "nbformat_minor": 1
}
