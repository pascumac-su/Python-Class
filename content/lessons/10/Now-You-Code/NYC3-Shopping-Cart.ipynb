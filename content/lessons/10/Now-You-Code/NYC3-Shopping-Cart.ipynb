{
 "cells": [
  {
   "cell_type": "markdown",
   "metadata": {},
   "source": [
    "# Now You Code 3: Shopping Cart\n",
    "\n",
    "In this program you will implement an online shopping cart using a Python list of dictionary. The dictionary will contain the product name, price and quantity. \n",
    "\n",
    "\n",
    "The program should loop continually,  asking the user to enter \n",
    " - Product name\n",
    " - Product price\n",
    " - Product quantity\n",
    "\n",
    "until the user enters a product name of `'checkout'` at which time the loop should break.\n",
    "\n",
    "Each time through the loop you should create a dictionary of product name, product price and product quantity then add the dictionary to a list.\n",
    "\n",
    "After you enter `'checkout'`  the program should show:\n",
    "\n",
    " - all the items in the cart, including their quantity and price\n",
    " - and the total amount of the order, a running sum of quantity times price\n",
    "\n",
    "NOTE: Don't worry about handling bad inputs for this exercise.\n",
    "\n",
    "Example Run:\n",
    "\n",
    "```\n",
    "E-Commerce Shopping Cart\n",
    "Enter product name or 'checkout':pencil\n",
    "Enter pencil Price:0.99\n",
    "Enter pencil Quantity:10\n",
    "Enter product name or 'checkout':calculator\n",
    "Enter calculator Price:9.99\n",
    "Enter calculator Quantity:1\n",
    "Enter product name or 'checkout':checkout\n",
    "pencil 10 $0.99\n",
    "calculator 1 $9.99\n",
    "TOTAL: $19.89\n",
    "```\n",
    "\n",
    "Start out your program by writing your TODO list of steps you'll need to solve the problem!"
   ]
  },
  {
   "cell_type": "markdown",
   "metadata": {
    "collapsed": true
   },
   "source": [
    "## Step 1: Problem Analysis\n",
    "\n",
    "Inputs:\n",
    "1. user input of product\n",
    "\n",
    "\n",
    "Outputs:\n",
    "2. detail_of_receipt = final_total\n",
    "\n",
    "Algorithm (Steps in Program):\n",
    "1. start indefinite loop\n",
    "2. create blank cart\n",
    "3. ask for a product\n",
    "4. product == checkout, break\n",
    "5. ask for price\n",
    "6. ask for quantity\n",
    "7. store info into dictionary (cart)TI\n",
    "8. part of break: print tota, detailed_receipt\n"
   ]
  },
  {
   "cell_type": "code",
   "execution_count": 17,
   "metadata": {},
   "outputs": [
    {
     "name": "stdout",
     "output_type": "stream",
     "text": [
      "enter a product: apple\n",
      "Enter the price for that product: 3\n",
      "Enter the quantity of the product: 2\n",
      "enter a product: checkout\n"
     ]
    },
    {
     "ename": "TypeError",
     "evalue": "not all arguments converted during string formatting",
     "output_type": "error",
     "traceback": [
      "\u001b[0;31m---------------------------------------------------------------------------\u001b[0m",
      "\u001b[0;31mTypeError\u001b[0m                                 Traceback (most recent call last)",
      "\u001b[0;32m<ipython-input-17-4a9ee1c94987>\u001b[0m in \u001b[0;36m<module>\u001b[0;34m\u001b[0m\n\u001b[1;32m     19\u001b[0m \u001b[0;34m\u001b[0m\u001b[0m\n\u001b[1;32m     20\u001b[0m \u001b[0;32mfor\u001b[0m \u001b[0mproducts\u001b[0m \u001b[0;32min\u001b[0m \u001b[0mcart\u001b[0m\u001b[0;34m:\u001b[0m\u001b[0;34m\u001b[0m\u001b[0m\n\u001b[0;32m---> 21\u001b[0;31m     \u001b[0mprint\u001b[0m\u001b[0;34m(\u001b[0m\u001b[0;34m\"%s, $.2f, %f,\"\u001b[0m \u001b[0;34m%\u001b[0m \u001b[0;34m(\u001b[0m\u001b[0mproducts\u001b[0m\u001b[0;34m[\u001b[0m\u001b[0;34m\"Product: \"\u001b[0m\u001b[0;34m]\u001b[0m\u001b[0;34m,\u001b[0m \u001b[0mproducts\u001b[0m\u001b[0;34m[\u001b[0m\u001b[0;34m\"Price of product\"\u001b[0m\u001b[0;34m]\u001b[0m\u001b[0;34m,\u001b[0m \u001b[0mproducts\u001b[0m\u001b[0;34m[\u001b[0m\u001b[0;34m\"Quantity\"\u001b[0m\u001b[0;34m]\u001b[0m\u001b[0;34m)\u001b[0m\u001b[0;34m)\u001b[0m\u001b[0;34m\u001b[0m\u001b[0m\n\u001b[0m\u001b[1;32m     22\u001b[0m \u001b[0mnewtotal\u001b[0m \u001b[0;34m=\u001b[0m \u001b[0mtotal\u001b[0m \u001b[0;34m+\u001b[0m \u001b[0mtotal\u001b[0m\u001b[0;34m\u001b[0m\u001b[0m\n\u001b[1;32m     23\u001b[0m \u001b[0mprint\u001b[0m\u001b[0;34m(\u001b[0m\u001b[0;34m\"total:\"\u001b[0m\u001b[0;34m,\u001b[0m \u001b[0mnewtotal\u001b[0m\u001b[0;34m)\u001b[0m\u001b[0;34m\u001b[0m\u001b[0m\n",
      "\u001b[0;31mTypeError\u001b[0m: not all arguments converted during string formatting"
     ]
    }
   ],
   "source": [
    "# STEP 2: Write code\n",
    "cart = []\n",
    "\n",
    "while True:\n",
    "    products = {}\n",
    "    product = input(\"enter a product: \")\n",
    "    if product == \"checkout\":\n",
    "        break\n",
    "    else:\n",
    "        products[\"Product: \"] = product\n",
    "        \n",
    "        price = float(input(\"Enter the price for that product: \"))\n",
    "        products[\"Price of product\"] = price\n",
    "        \n",
    "        quantity = float(input(\"Enter the quantity of the product: \"))\n",
    "        products[\"Quantity\"] = quantity\n",
    "        \n",
    "        total = price*quantity\n",
    "        cart.append(products)\n",
    "\n",
    "for products in cart:\n",
    "    print(\"%s, $.2f, %f,\" % (products[\"Product: \"], products[\"Price of product\"], products[\"Quantity\"]))\n",
    "newtotal = total + total\n",
    "print(\"total:\", newtotal)"
   ]
  },
  {
   "cell_type": "markdown",
   "metadata": {},
   "source": [
    "### Step 3: Questions\n",
    "\n",
    "1. How does using a Python dictionary simplify this program? (Think of how you would have to write this program if you did not use a dictionary)\n",
    "    a. it helps save the information and create an easy to read code\n",
    "2. What Happens when you run the program and just type `checkout`. Does the program work as you would expect?\n",
    "    a. it d\n"
   ]
  },
  {
   "cell_type": "markdown",
   "metadata": {},
   "source": [
    "## Reminder of Evaluation Criteria\n",
    "\n",
    "1. What the problem attempted (analysis, code, and answered questions) ?\n",
    "2. What the problem analysis thought out? (does the program match the plan?)\n",
    "3. Does the code execute without syntax error?\n",
    "4. Does the code solve the intended problem?\n",
    "5. Is the code well written? (easy to understand, modular, and self-documenting, handles errors)\n"
   ]
  },
  {
   "cell_type": "code",
   "execution_count": null,
   "metadata": {},
   "outputs": [],
   "source": []
  }
 ],
 "metadata": {
  "anaconda-cloud": {},
  "kernelspec": {
   "display_name": "Python 3",
   "language": "python",
   "name": "python3"
  },
  "language_info": {
   "codemirror_mode": {
    "name": "ipython",
    "version": 3
   },
   "file_extension": ".py",
   "mimetype": "text/x-python",
   "name": "python",
   "nbconvert_exporter": "python",
   "pygments_lexer": "ipython3",
   "version": "3.6.6"
  }
 },
 "nbformat": 4,
 "nbformat_minor": 1
}
