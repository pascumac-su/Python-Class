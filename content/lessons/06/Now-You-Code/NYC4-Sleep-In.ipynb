{
 "cells": [
  {
   "cell_type": "markdown",
   "metadata": {},
   "source": [
    "# Now You Code 4: Should I Sleep In?\n",
    "\n",
    "Always. :-) \n",
    "\n",
    "Actually we'd like to write a program which will suggest whether or not we can sleep in. Our criteria will be as follows.\n",
    "\n",
    "- Is it the weekend? Then sleep in.\n",
    "- Is it a holiday? Then sleep in.\n",
    "- Otherwise you need to get up!\n",
    "\n",
    "Let's write a program to input the day of the week and ask whether or not its a holiday, then make the appropriate decision as to whether or not we should sleep in.\n",
    "\n",
    "We will use the **Write - Refactor - Test - Rewrite** approach to complete the final solution which will refactor the day of the week logic into a function."
   ]
  },
  {
   "cell_type": "markdown",
   "metadata": {},
   "source": [
    "## Step 1: Write\n",
    "\n",
    "Here's the algorithm of this program. Write the solution in Python.\n",
    "\n",
    "```\n",
    "    input day of the week\n",
    "    input is it a holiday\n",
    "    if day of the week is a weekend\n",
    "        print go back to bed its the weekend\n",
    "    else\n",
    "        if its a holiday\n",
    "            print go back to bed. its a holiday\n",
    "        else\n",
    "            print you need to get up\n",
    "```\n",
    "\n",
    "Example Run 1:\n",
    "\n",
    "```\n",
    "What day of the week is it? Monday\n",
    "Is it a holiday? No\n",
    "You need to get up!\n",
    "```\n",
    "\n",
    "Example Run 2:\n",
    "\n",
    "```\n",
    "What day of the week is it? Saturday\n",
    "Is it a holiday? No\n",
    "Go back to bed! It's the weekend.\n",
    "```\n",
    "\n",
    "Example Run 3:\n",
    "\n",
    "```\n",
    "What day of the week is it? Monday\n",
    "Is it a holiday? Yes\n",
    "Go back to bed! It's a Holiday.\n",
    "```\n"
   ]
  },
  {
   "cell_type": "code",
   "execution_count": 7,
   "metadata": {},
   "outputs": [
    {
     "name": "stdout",
     "output_type": "stream",
     "text": [
      "What is the day of the week: Sunday\n",
      "Is it a holiday?: Y or N N\n",
      "It's a weekend. Stay in bed!\n"
     ]
    }
   ],
   "source": [
    "## TODO: Write the solution here\n",
    "\n",
    "message1 = \"Week day. Get up!\"\n",
    "message2 = \"It's a Holiday. Sleep in!\"\n",
    "message3 = \"It's a weekend. Stay in bed!\"\n",
    "user_day = input(\"What is the day of the week: \")\n",
    "user_holiday = input(\"Is it a holiday?: Y or N \")\n",
    "if user_day == \"Saturday\" or user_day == \"Sunday\":\n",
    "    print(message3)\n",
    "else:\n",
    "    if user_holiday == \"Y\":\n",
    "        print(message2)\n",
    "    else:\n",
    "        print(message1)"
   ]
  },
  {
   "cell_type": "markdown",
   "metadata": {},
   "source": [
    "## Step 2: Refactor\n",
    "\n",
    "Next we need to refactor the part of this program which checks to see if the day of the week is a weekend. The function:\n",
    "\n",
    "- `IsWeekend()` has one input a `day_of_week` and returns `True` when it's a `Saturday` or `Sunday`, `False` for all other days.\n"
   ]
  },
  {
   "cell_type": "code",
   "execution_count": null,
   "metadata": {},
   "outputs": [],
   "source": [
    "## Step 2: Refactor into function IsWeekend(day_of_week)\n",
    "def IsWeekend(user_day):\n",
    "    if user_day == \"Saturday\" or user_day == \"Sunday\":\n",
    "        return(True)\n",
    "    else:\n",
    "        return(False)\n",
    "    \n",
    "message1 = \"Week day. Get up!\"\n",
    "message2 = \"It's a Holiday. Sleep in!\"\n",
    "message3 = \"It's a weekend. Stay in bed!\"\n",
    "input_day = input(\"What is the day of the week: \")\n",
    "user_holiday = input(\"Is it a holiday?: Y or N \")\n",
    "weekend_indicator = IsWeekend(input_day)\n",
    "\n",
    "if weekend_indicator == True:\n",
    "    print(message3)\n",
    "else:\n",
    "    if user_holiday == \"Y\":\n",
    "        print(message2)\n",
    "    else:\n",
    "        print(message1)"
   ]
  },
  {
   "cell_type": "markdown",
   "metadata": {},
   "source": [
    "## Step 3: Test \n",
    "\n",
    "Time to test. Write 7 tests, once for each day of the week.\n",
    "```\n",
    "WHEN day_of_week='Monday' We EXPECT IsWeekend(day_of_week) to return False\n",
    "WHEN day_of_week='Tuesday' We EXPECT IsWeekend(day_of_week) to return False\n",
    "WHEN day_of_week='Wednesday' We EXPECT IsWeekend(day_of_week) to return False\n",
    "WHEN day_of_week='Thursday' We EXPECT IsWeekend(day_of_week) to return False\n",
    "WHEN day_of_week='Friday' We EXPECT IsWeekend(day_of_week) to return False\n",
    "WHEN day_of_week='Saturday' We EXPECT IsWeekend(day_of_week) to return True\n",
    "WHEN day_of_week='Sunday' We EXPECT IsWeekend(day_of_week) to return True\n",
    "```\n"
   ]
  },
  {
   "cell_type": "code",
   "execution_count": null,
   "metadata": {},
   "outputs": [],
   "source": [
    "# Step 3: Write tests. Similar to how we did it in the lab.\n",
    "print(\"WHEN day_of_week='Monday' We EXPECT\", IsWeekend(day_of_week), 'to return False')\n",
    "print(\"WHEN day_of_week='Tuesday' We EXPECT\", IsWeekend(day_of_week), 'to return False')\n",
    "print(\"WHEN day_of_week='Wednesday' We EXPECT\", IsWeekend(day_of_week), 'to return False')\n",
    "print(\"WHEN day_of_week='Thursday' We EXPECT\", IsWeekend(day_of_week), 'to return False')\n",
    "print(\"WHEN day_of_week='Friday' We EXPECT\", IsWeekend(day_of_week), 'to return False')\n",
    "print(\"WHEN day_of_week='Saturday' We EXPECT\", IsWeekend(day_of_week), 'to return True')\n",
    "print(\"WHEN day_of_week='Sunday' We EXPECT\", IsWeekend(day_of_week), 'to return True')"
   ]
  },
  {
   "cell_type": "markdown",
   "metadata": {},
   "source": [
    "## Step 4: rewrite the program to use the function\n",
    "\n",
    "Finally re-write the original program, but call the function you made in step 2: \n"
   ]
  },
  {
   "cell_type": "code",
   "execution_count": 5,
   "metadata": {},
   "outputs": [
    {
     "name": "stdout",
     "output_type": "stream",
     "text": [
      "What is the day of the week: sat\n",
      "Is it a holiday?: Y or N N\n",
      "Week day. Get up!\n"
     ]
    }
   ],
   "source": [
    "## Step 4: Write program here from the algorithm above\n",
    "def IsWeekend(user_day):\n",
    "    if user_day == \"Saturday\" or user_day == \"Sunday\":\n",
    "        return(True)\n",
    "    else:\n",
    "        return(False)\n",
    "    \n",
    "message1 = \"Week day. Get up!\"\n",
    "message2 = \"It's a Holiday. Sleep in!\"\n",
    "message3 = \"It's a weekend. Stay in bed!\"\n",
    "input_day = input(\"What is the day of the week: \")\n",
    "user_holiday = input(\"Is it a holiday?: Y or N \")\n",
    "weekend_indicator = IsWeekend(input_day)\n",
    "\n",
    "if weekend_indicator == True:\n",
    "    print(message3)\n",
    "else:\n",
    "    if user_holiday == \"Y\":\n",
    "        print(message2)\n",
    "    elif IsWeekend(input_day) == True:\n",
    "        print(IsWeekend(input_day))\n",
    "    else:\n",
    "        print(message1)\n",
    "    "
   ]
  },
  {
   "cell_type": "markdown",
   "metadata": {},
   "source": [
    "## Step 6: Questions\n",
    "\n",
    "1. Provide 3 advantages for programming a user function in your code like `CircleArea`  or `CircleCircumfrence`\n",
    "    a. three advantages are that it can shorten the length of code, it saves the code meaning you save time and the code doesn't have to be duplicated, and lastly it helps make the code more clear and easier since it is the same code being used, but called over and over.\n",
    "2. Why did we need to write 7 tests?\n",
    "    a. the seven tests were for each day of the week.\n",
    "3. Which code is easier to understand? Step 1 or step 4? Why? or Why not?\n",
    "    a. Step 4 because the IsWeekend statement is defined, making the code more specific by taking the function and making it more detailed.\n",
    "4. What happens when you input `'sat'` for `'Saturday'` Does it work? How can the program be improved? Does improving it affect the readability of step 4? (HINT: Abstractions!!!)\n",
    "    a. the code runs, but gives the wrong output, this can be improved by setting a valueError rule, allowing the program to read sat and sun.\n"
   ]
  },
  {
   "cell_type": "markdown",
   "metadata": {},
   "source": [
    "## Reminder of Evaluation Criteria\n",
    "\n",
    "1. What the problem attempted (analysis, code, and answered questions) ?\n",
    "2. What the problem analysis thought out? (does the program match the plan?)\n",
    "3. Does the code execute without syntax error?\n",
    "4. Does the code solve the intended problem?\n",
    "5. Is the code well written? (easy to understand, modular, and self-documenting, handles errors)\n"
   ]
  },
  {
   "cell_type": "code",
   "execution_count": null,
   "metadata": {
    "collapsed": true
   },
   "outputs": [],
   "source": []
  }
 ],
 "metadata": {
  "anaconda-cloud": {},
  "kernelspec": {
   "display_name": "Python 3",
   "language": "python",
   "name": "python3"
  },
  "language_info": {
   "codemirror_mode": {
    "name": "ipython",
    "version": 3
   },
   "file_extension": ".py",
   "mimetype": "text/x-python",
   "name": "python",
   "nbconvert_exporter": "python",
   "pygments_lexer": "ipython3",
   "version": "3.6.6"
  }
 },
 "nbformat": 4,
 "nbformat_minor": 1
}
